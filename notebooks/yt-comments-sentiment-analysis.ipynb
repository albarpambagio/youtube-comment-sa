{
 "cells": [
  {
   "cell_type": "code",
   "execution_count": null,
   "metadata": {
    "colab": {
     "base_uri": "https://localhost:8080/"
    },
    "execution": {
     "iopub.execute_input": "2025-05-03T01:39:41.493264Z",
     "iopub.status.busy": "2025-05-03T01:39:41.492737Z",
     "iopub.status.idle": "2025-05-03T01:39:47.004963Z",
     "shell.execute_reply": "2025-05-03T01:39:47.004245Z",
     "shell.execute_reply.started": "2025-05-03T01:39:41.493230Z"
    },
    "id": "-nS4ioeXQG18",
    "outputId": "9480191e-0c43-4ba0-f171-d09c74d17095",
    "trusted": true
   },
   "outputs": [
    {
     "name": "stdout",
     "output_type": "stream",
     "text": [
      "Collecting uv\n",
      "  Downloading uv-0.7.2-py3-none-manylinux_2_17_x86_64.manylinux2014_x86_64.whl.metadata (11 kB)\n",
      "Downloading uv-0.7.2-py3-none-manylinux_2_17_x86_64.manylinux2014_x86_64.whl (17.4 MB)\n",
      "\u001b[2K   \u001b[90m━━━━━━━━━━━━━━━━━━━━━━━━━━━━━━━━━━━━━━━━\u001b[0m \u001b[32m17.4/17.4 MB\u001b[0m \u001b[31m80.4 MB/s\u001b[0m eta \u001b[36m0:00:00\u001b[0m:00:01\u001b[0m00:01\u001b[0m\n",
      "\u001b[?25hInstalling collected packages: uv\n",
      "Successfully installed uv-0.7.2\n",
      "\u001b[1m\u001b[31merror\u001b[39m\u001b[0m: No virtual environment found; run `\u001b[32muv venv\u001b[39m` to create an environment, or pass `\u001b[32m--system\u001b[39m` to install into a non-virtual environment\n"
     ]
    }
   ],
   "source": [
    "!pip install uv\n",
    "!uv pip install datasets #trained on kaggle, so the error isnt a problem"
   ]
  },
  {
   "cell_type": "code",
   "execution_count": 11,
   "metadata": {
    "execution": {
     "iopub.execute_input": "2025-05-03T01:41:29.708052Z",
     "iopub.status.busy": "2025-05-03T01:41:29.707262Z",
     "iopub.status.idle": "2025-05-03T01:41:29.712611Z",
     "shell.execute_reply": "2025-05-03T01:41:29.711859Z",
     "shell.execute_reply.started": "2025-05-03T01:41:29.708028Z"
    },
    "id": "pr5SLU3yOm6T",
    "trusted": true
   },
   "outputs": [],
   "source": [
    "import pandas as pd\n",
    "from sklearn.model_selection import train_test_split\n",
    "from datasets import Dataset\n",
    "from transformers import AutoTokenizer, AutoModelForSequenceClassification, TrainingArguments, Trainer\n",
    "import torch\n",
    "import numpy as np\n",
    "from sklearn.metrics import accuracy_score, precision_recall_fscore_support\n",
    "import seaborn as sns\n",
    "import matplotlib.pyplot as plt\n",
    "from torch import cuda\n",
    "from sklearn.utils import resample\n",
    "from transformers import EarlyStoppingCallback"
   ]
  },
  {
   "cell_type": "markdown",
   "metadata": {},
   "source": [
    "# Data Preparation"
   ]
  },
  {
   "cell_type": "code",
   "execution_count": 4,
   "metadata": {
    "execution": {
     "iopub.execute_input": "2025-05-03T01:41:13.793405Z",
     "iopub.status.busy": "2025-05-03T01:41:13.792680Z",
     "iopub.status.idle": "2025-05-03T01:41:13.836438Z",
     "shell.execute_reply": "2025-05-03T01:41:13.835751Z",
     "shell.execute_reply.started": "2025-05-03T01:41:13.793372Z"
    },
    "id": "BpcxNC7VOwt3",
    "trusted": true
   },
   "outputs": [],
   "source": [
    "# Load labeled dataset\n",
    "df = pd.read_csv(\"/kaggle/input/yt-comment-sentiment-labeled/indobertweet_labeled_texts.csv\")\n",
    "df = df[[\"text\", \"predicted_label\"]]\n",
    "df = df.rename(columns={\"predicted_label\": \"label\"})"
   ]
  },
  {
   "cell_type": "code",
   "execution_count": 33,
   "metadata": {
    "execution": {
     "iopub.execute_input": "2025-05-03T02:28:34.077769Z",
     "iopub.status.busy": "2025-05-03T02:28:34.077272Z",
     "iopub.status.idle": "2025-05-03T02:28:34.084198Z",
     "shell.execute_reply": "2025-05-03T02:28:34.083569Z",
     "shell.execute_reply.started": "2025-05-03T02:28:34.077745Z"
    },
    "trusted": true
   },
   "outputs": [
    {
     "data": {
      "text/plain": [
       "105"
      ]
     },
     "execution_count": 33,
     "metadata": {},
     "output_type": "execute_result"
    }
   ],
   "source": [
    "df.duplicated().sum()"
   ]
  },
  {
   "cell_type": "code",
   "execution_count": 5,
   "metadata": {
    "colab": {
     "base_uri": "https://localhost:8080/",
     "height": 472
    },
    "execution": {
     "iopub.execute_input": "2025-05-03T01:41:13.837941Z",
     "iopub.status.busy": "2025-05-03T01:41:13.837646Z",
     "iopub.status.idle": "2025-05-03T01:41:14.027722Z",
     "shell.execute_reply": "2025-05-03T01:41:14.026951Z",
     "shell.execute_reply.started": "2025-05-03T01:41:13.837921Z"
    },
    "id": "EFr3uapzP2Ih",
    "outputId": "503786ae-8899-4098-a324-8d78b925af3e",
    "trusted": true
   },
   "outputs": [
    {
     "data": {
      "image/png": "[encoded data removed]",
      "text/plain": [
       "<Figure size 640x480 with 1 Axes>"
      ]
     },
     "metadata": {},
     "output_type": "display_data"
    }
   ],
   "source": [
    "# Visualize\n",
    "label_counts = df[\"label\"].value_counts().sort_index()\n",
    "sns.barplot(x=label_counts.index, y=label_counts.values)\n",
    "plt.xticks([0, 1], ['Negative', 'Positive'])\n",
    "plt.title(\"Sentiment Class Distribution\")\n",
    "plt.show()"
   ]
  },
  {
   "cell_type": "code",
   "execution_count": 36,
   "metadata": {
    "execution": {
     "iopub.execute_input": "2025-05-03T02:36:14.957803Z",
     "iopub.status.busy": "2025-05-03T02:36:14.957180Z",
     "iopub.status.idle": "2025-05-03T02:36:14.969727Z",
     "shell.execute_reply": "2025-05-03T02:36:14.968943Z",
     "shell.execute_reply.started": "2025-05-03T02:36:14.957781Z"
    },
    "id": "5PGQzKzjRV0v",
    "trusted": true
   },
   "outputs": [],
   "source": [
    "# Oversample to match the majority class\n",
    "df_majority = df[df.label == df.label.value_counts().idxmax()]\n",
    "dfs = []\n",
    "\n",
    "for label in df.label.unique():\n",
    "    df_min = df[df.label == label]\n",
    "    df_resampled = resample(df_min, replace=True, n_samples=len(df_majority), random_state=42)\n",
    "    dfs.append(df_resampled)\n",
    "\n",
    "df_balanced = pd.concat(dfs)\n",
    "df_balanced = df_balanced.sample(frac=1).reset_index(drop=True)  # shuffle\n",
    "df_balanced = df_balanced.drop_duplicates(subset=[\"text\"])  # Replace \"text\" with your feature column"
   ]
  },
  {
   "cell_type": "code",
   "execution_count": 7,
   "metadata": {
    "colab": {
     "base_uri": "https://localhost:8080/"
    },
    "execution": {
     "iopub.execute_input": "2025-05-03T01:41:14.044682Z",
     "iopub.status.busy": "2025-05-03T01:41:14.044071Z",
     "iopub.status.idle": "2025-05-03T01:41:14.053279Z",
     "shell.execute_reply": "2025-05-03T01:41:14.052362Z",
     "shell.execute_reply.started": "2025-05-03T01:41:14.044656Z"
    },
    "id": "RcMK0WYURasA",
    "outputId": "34380112-e2bc-43d6-d338-82aa6d911652",
    "trusted": true
   },
   "outputs": [
    {
     "name": "stdout",
     "output_type": "stream",
     "text": [
      "Class Distribution:\n",
      " label\n",
      "0    3005\n",
      "1    3005\n",
      "Name: count, dtype: int64\n"
     ]
    }
   ],
   "source": [
    "# Check class distribution\n",
    "label_counts = df_balanced[\"label\"].value_counts().sort_index()\n",
    "print(\"Class Distribution:\\n\", label_counts)"
   ]
  },
  {
   "cell_type": "code",
   "execution_count": 37,
   "metadata": {
    "execution": {
     "iopub.execute_input": "2025-05-03T02:36:19.699962Z",
     "iopub.status.busy": "2025-05-03T02:36:19.699571Z",
     "iopub.status.idle": "2025-05-03T02:36:19.708718Z",
     "shell.execute_reply": "2025-05-03T02:36:19.707955Z",
     "shell.execute_reply.started": "2025-05-03T02:36:19.699931Z"
    },
    "id": "FvMq81q4Pgcu",
    "trusted": true
   },
   "outputs": [],
   "source": [
    "train_df, test_df = train_test_split(df_balanced, test_size=0.1, stratify=df_balanced[\"label\"], random_state=42)"
   ]
  },
  {
   "cell_type": "code",
   "execution_count": 38,
   "metadata": {
    "execution": {
     "iopub.execute_input": "2025-05-03T02:36:22.048798Z",
     "iopub.status.busy": "2025-05-03T02:36:22.048098Z",
     "iopub.status.idle": "2025-05-03T02:36:22.053164Z",
     "shell.execute_reply": "2025-05-03T02:36:22.052395Z",
     "shell.execute_reply.started": "2025-05-03T02:36:22.048772Z"
    },
    "trusted": true
   },
   "outputs": [],
   "source": [
    "overlap = set(train_df[\"text\"]).intersection(set(test_df[\"text\"]))\n",
    "assert len(overlap) == 0, \"Data leakage still exists!\""
   ]
  },
  {
   "cell_type": "code",
   "execution_count": 9,
   "metadata": {
    "execution": {
     "iopub.execute_input": "2025-05-03T01:41:14.069490Z",
     "iopub.status.busy": "2025-05-03T01:41:14.069062Z",
     "iopub.status.idle": "2025-05-03T01:41:14.094656Z",
     "shell.execute_reply": "2025-05-03T01:41:14.094048Z",
     "shell.execute_reply.started": "2025-05-03T01:41:14.069471Z"
    },
    "id": "yckY_kB_O7Gf",
    "trusted": true
   },
   "outputs": [],
   "source": [
    "# Convert to Hugging Face Datasets format\n",
    "train_dataset = Dataset.from_pandas(train_df)\n",
    "test_dataset = Dataset.from_pandas(test_df)"
   ]
  },
  {
   "cell_type": "code",
   "execution_count": 12,
   "metadata": {
    "execution": {
     "iopub.execute_input": "2025-05-03T01:41:36.271923Z",
     "iopub.status.busy": "2025-05-03T01:41:36.271558Z",
     "iopub.status.idle": "2025-05-03T01:41:36.276248Z",
     "shell.execute_reply": "2025-05-03T01:41:36.275202Z",
     "shell.execute_reply.started": "2025-05-03T01:41:36.271880Z"
    },
    "trusted": true
   },
   "outputs": [],
   "source": [
    "device = 'cuda' if cuda.is_available() else 'cpu'"
   ]
  },
  {
   "cell_type": "code",
   "execution_count": 13,
   "metadata": {
    "colab": {
     "base_uri": "https://localhost:8080/"
    },
    "execution": {
     "iopub.execute_input": "2025-05-03T01:41:36.277941Z",
     "iopub.status.busy": "2025-05-03T01:41:36.277641Z",
     "iopub.status.idle": "2025-05-03T01:41:43.938473Z",
     "shell.execute_reply": "2025-05-03T01:41:43.937563Z",
     "shell.execute_reply.started": "2025-05-03T01:41:36.277919Z"
    },
    "id": "qV-L0SCDO8D_",
    "outputId": "996eb980-a431-4de4-f5af-b1165d51b2f3",
    "trusted": true
   },
   "outputs": [
    {
     "data": {
      "application/vnd.jupyter.widget-view+json": {
       "model_id": "a25fd3b703814c5ca76a927008adfeb1",
       "version_major": 2,
       "version_minor": 0
      },
      "text/plain": [
       "tokenizer_config.json:   0%|          | 0.00/2.00 [00:00<?, ?B/s]"
      ]
     },
     "metadata": {},
     "output_type": "display_data"
    },
    {
     "data": {
      "application/vnd.jupyter.widget-view+json": {
       "model_id": "40c29c12710a4b7c9e5ec256decd825a",
       "version_major": 2,
       "version_minor": 0
      },
      "text/plain": [
       "config.json:   0%|          | 0.00/1.10k [00:00<?, ?B/s]"
      ]
     },
     "metadata": {},
     "output_type": "display_data"
    },
    {
     "data": {
      "application/vnd.jupyter.widget-view+json": {
       "model_id": "7ad079180b164332af8c37b928717cbb",
       "version_major": 2,
       "version_minor": 0
      },
      "text/plain": [
       "vocab.txt:   0%|          | 0.00/235k [00:00<?, ?B/s]"
      ]
     },
     "metadata": {},
     "output_type": "display_data"
    },
    {
     "data": {
      "application/vnd.jupyter.widget-view+json": {
       "model_id": "6f3b3efde8474ff4bc88cbef8d660d84",
       "version_major": 2,
       "version_minor": 0
      },
      "text/plain": [
       "special_tokens_map.json:   0%|          | 0.00/112 [00:00<?, ?B/s]"
      ]
     },
     "metadata": {},
     "output_type": "display_data"
    },
    {
     "data": {
      "application/vnd.jupyter.widget-view+json": {
       "model_id": "0427e2d5392d407899bcd83cc0cdad64",
       "version_major": 2,
       "version_minor": 0
      },
      "text/plain": [
       "pytorch_model.bin:   0%|          | 0.00/445M [00:00<?, ?B/s]"
      ]
     },
     "metadata": {},
     "output_type": "display_data"
    },
    {
     "name": "stderr",
     "output_type": "stream",
     "text": [
      "Some weights of BertForSequenceClassification were not initialized from the model checkpoint at indolem/indobertweet-base-uncased and are newly initialized: ['classifier.bias', 'classifier.weight']\n",
      "You should probably TRAIN this model on a down-stream task to be able to use it for predictions and inference.\n"
     ]
    },
    {
     "data": {
      "application/vnd.jupyter.widget-view+json": {
       "model_id": "f05a87e3383b496a9ef89c0b6890b898",
       "version_major": 2,
       "version_minor": 0
      },
      "text/plain": [
       "model.safetensors:   0%|          | 0.00/445M [00:00<?, ?B/s]"
      ]
     },
     "metadata": {},
     "output_type": "display_data"
    },
    {
     "data": {
      "text/plain": [
       "BertForSequenceClassification(\n",
       "  (bert): BertModel(\n",
       "    (embeddings): BertEmbeddings(\n",
       "      (word_embeddings): Embedding(31923, 768, padding_idx=0)\n",
       "      (position_embeddings): Embedding(512, 768)\n",
       "      (token_type_embeddings): Embedding(2, 768)\n",
       "      (LayerNorm): LayerNorm((768,), eps=1e-12, elementwise_affine=True)\n",
       "      (dropout): Dropout(p=0.1, inplace=False)\n",
       "    )\n",
       "    (encoder): BertEncoder(\n",
       "      (layer): ModuleList(\n",
       "        (0-11): 12 x BertLayer(\n",
       "          (attention): BertAttention(\n",
       "            (self): BertSdpaSelfAttention(\n",
       "              (query): Linear(in_features=768, out_features=768, bias=True)\n",
       "              (key): Linear(in_features=768, out_features=768, bias=True)\n",
       "              (value): Linear(in_features=768, out_features=768, bias=True)\n",
       "              (dropout): Dropout(p=0.1, inplace=False)\n",
       "            )\n",
       "            (output): BertSelfOutput(\n",
       "              (dense): Linear(in_features=768, out_features=768, bias=True)\n",
       "              (LayerNorm): LayerNorm((768,), eps=1e-12, elementwise_affine=True)\n",
       "              (dropout): Dropout(p=0.1, inplace=False)\n",
       "            )\n",
       "          )\n",
       "          (intermediate): BertIntermediate(\n",
       "            (dense): Linear(in_features=768, out_features=3072, bias=True)\n",
       "            (intermediate_act_fn): GELUActivation()\n",
       "          )\n",
       "          (output): BertOutput(\n",
       "            (dense): Linear(in_features=3072, out_features=768, bias=True)\n",
       "            (LayerNorm): LayerNorm((768,), eps=1e-12, elementwise_affine=True)\n",
       "            (dropout): Dropout(p=0.1, inplace=False)\n",
       "          )\n",
       "        )\n",
       "      )\n",
       "    )\n",
       "    (pooler): BertPooler(\n",
       "      (dense): Linear(in_features=768, out_features=768, bias=True)\n",
       "      (activation): Tanh()\n",
       "    )\n",
       "  )\n",
       "  (dropout): Dropout(p=0.1, inplace=False)\n",
       "  (classifier): Linear(in_features=768, out_features=2, bias=True)\n",
       ")"
      ]
     },
     "execution_count": 13,
     "metadata": {},
     "output_type": "execute_result"
    }
   ],
   "source": [
    "# Load tokenizer and model\n",
    "model_name = \"indolem/indobertweet-base-uncased\"\n",
    "tokenizer = AutoTokenizer.from_pretrained(model_name)\n",
    "model = AutoModelForSequenceClassification.from_pretrained(model_name, num_labels=2)\n",
    "model.to(device)"
   ]
  },
  {
   "cell_type": "code",
   "execution_count": 14,
   "metadata": {
    "colab": {
     "base_uri": "https://localhost:8080/",
     "height": 81,
     "referenced_widgets": [
      "3f3769ebdb8b4ac3ac403caa0941b6e0",
      "76b2f7a94ccc42e8be71728c2a159a68",
      "1d1dd2e8b20a4d6196ad92684b2ec5f0",
      "f3017b5a1494440dbad03104aa51cfe3",
      "8a2a2124dfd04bec9621bd8bd0db1492",
      "58648f2cddc047f181b9275a429f08b4",
      "a2e28702af5c4b36be493dd787a41685",
      "b737b88531c5403fbd603705bbb936ec",
      "ed8bed0a80974b85aa9b481937b78467",
      "6d816c9222284897bd06fa5c2b09ded1",
      "35076c572d594d6d914ee6c722d07c67",
      "98130d8019e44da181774dd44406a8ec",
      "adc647f4382444329e40315e21d9834d",
      "9a8fb3b004ce4d299732e4071f64b940",
      "fd36b84402e04553a4444f2e97ecb77e",
      "5db9d31a88de4e4aa50e7160527c6b35",
      "af150faac2244822815b782bf36fea9e",
      "167e166c04464321916a6f561ca000df",
      "9afcc91051d043fcbc0e0691b529b581",
      "0839ee79e17041e7ad04a3ed842e6654",
      "b9a4615890fe4e339ddad924fd3b92df",
      "bd6024b5a9824f18b3b02e27b9267fb9"
     ]
    },
    "execution": {
     "iopub.execute_input": "2025-05-03T01:41:43.940370Z",
     "iopub.status.busy": "2025-05-03T01:41:43.939548Z",
     "iopub.status.idle": "2025-05-03T01:41:45.845714Z",
     "shell.execute_reply": "2025-05-03T01:41:45.845012Z",
     "shell.execute_reply.started": "2025-05-03T01:41:43.940340Z"
    },
    "id": "6GHmLA1JO-LC",
    "outputId": "71bab166-47ba-4187-9db9-dcdcdb2819c7",
    "trusted": true
   },
   "outputs": [
    {
     "data": {
      "application/vnd.jupyter.widget-view+json": {
       "model_id": "dd914c2ee8e544e3948f71bc09d38781",
       "version_major": 2,
       "version_minor": 0
      },
      "text/plain": [
       "Map:   0%|          | 0/5409 [00:00<?, ? examples/s]"
      ]
     },
     "metadata": {},
     "output_type": "display_data"
    },
    {
     "data": {
      "application/vnd.jupyter.widget-view+json": {
       "model_id": "3f08b664fe974dc29325c8413976f97f",
       "version_major": 2,
       "version_minor": 0
      },
      "text/plain": [
       "Map:   0%|          | 0/601 [00:00<?, ? examples/s]"
      ]
     },
     "metadata": {},
     "output_type": "display_data"
    }
   ],
   "source": [
    "# Tokenization function\n",
    "def tokenize(batch):\n",
    "    return tokenizer(batch[\"text\"], padding=\"max_length\", truncation=True, max_length=512)\n",
    "\n",
    "# Tokenize datasets\n",
    "train_dataset = train_dataset.map(tokenize, batched=True)\n",
    "test_dataset = test_dataset.map(tokenize, batched=True)"
   ]
  },
  {
   "cell_type": "code",
   "execution_count": 15,
   "metadata": {
    "execution": {
     "iopub.execute_input": "2025-05-03T01:41:45.848162Z",
     "iopub.status.busy": "2025-05-03T01:41:45.847926Z",
     "iopub.status.idle": "2025-05-03T01:41:45.853958Z",
     "shell.execute_reply": "2025-05-03T01:41:45.853196Z",
     "shell.execute_reply.started": "2025-05-03T01:41:45.848145Z"
    },
    "id": "hGgdl7KaO_84",
    "trusted": true
   },
   "outputs": [],
   "source": [
    "# Set format for PyTorch\n",
    "train_dataset.set_format(type=\"torch\", columns=[\"input_ids\", \"attention_mask\", \"label\"])\n",
    "test_dataset.set_format(type=\"torch\", columns=[\"input_ids\", \"attention_mask\", \"label\"])"
   ]
  },
  {
   "cell_type": "markdown",
   "metadata": {},
   "source": [
    "# Model Training"
   ]
  },
  {
   "cell_type": "code",
   "execution_count": 16,
   "metadata": {
    "execution": {
     "iopub.execute_input": "2025-05-03T01:41:45.855325Z",
     "iopub.status.busy": "2025-05-03T01:41:45.855049Z",
     "iopub.status.idle": "2025-05-03T01:41:45.907161Z",
     "shell.execute_reply": "2025-05-03T01:41:45.906235Z",
     "shell.execute_reply.started": "2025-05-03T01:41:45.855304Z"
    },
    "id": "yNMkqmSwPCww",
    "trusted": true
   },
   "outputs": [],
   "source": [
    "# Compute metrics\n",
    "def compute_metrics(pred):\n",
    "    labels = pred.label_ids\n",
    "    preds = np.argmax(pred.predictions, axis=1)\n",
    "    acc = accuracy_score(labels, preds)\n",
    "    precision, recall, f1, _ = precision_recall_fscore_support(labels, preds, average=\"macro\")\n",
    "    return {\"accuracy\": acc, \"precision\": precision, \"recall\": recall, \"f1\": f1}"
   ]
  },
  {
   "cell_type": "code",
   "execution_count": 62,
   "metadata": {
    "execution": {
     "iopub.execute_input": "2025-05-03T03:11:00.159541Z",
     "iopub.status.busy": "2025-05-03T03:11:00.158799Z",
     "iopub.status.idle": "2025-05-03T03:11:00.191266Z",
     "shell.execute_reply": "2025-05-03T03:11:00.190564Z",
     "shell.execute_reply.started": "2025-05-03T03:11:00.159517Z"
    },
    "id": "Z9H3CKXYPEwR",
    "trusted": true
   },
   "outputs": [],
   "source": [
    "training_args = TrainingArguments(\n",
    "    output_dir=\"/kaggle/working/indo-sentiment-model\",\n",
    "    learning_rate=3e-5,  # Lower if using >5e-5\n",
    "    per_device_train_batch_size=16,\n",
    "    weight_decay=0.01,  # Add L2 regularization\n",
    "    eval_strategy=\"epoch\",\n",
    "    save_strategy=\"epoch\",\n",
    "    load_best_model_at_end=True,\n",
    "    metric_for_best_model=\"eval_loss\",  # Monitor validation loss\n",
    "    greater_is_better=False,\n",
    "    num_train_epochs=5,\n",
    "    logging_steps=50,\n",
    "    warmup_ratio=0.1,\n",
    "    fp16=True,  # Enable mixed-precision if using GPU\n",
    "    max_grad_norm=1.0,  # Prevents exploding gradients\n",
    "    save_total_limit=2,          # Keeps only 2 best checkpoints\n",
    "    save_steps=500,             # Save every 500 steps\n",
    "    overwrite_output_dir=True,   # Clears old checkpoints\n",
    "    report_to=\"none\"\n",
    ")"
   ]
  },
  {
   "cell_type": "code",
   "execution_count": 66,
   "metadata": {
    "colab": {
     "base_uri": "https://localhost:8080/"
    },
    "execution": {
     "iopub.execute_input": "2025-05-03T03:33:01.832025Z",
     "iopub.status.busy": "2025-05-03T03:33:01.831444Z",
     "iopub.status.idle": "2025-05-03T03:33:01.844902Z",
     "shell.execute_reply": "2025-05-03T03:33:01.844203Z",
     "shell.execute_reply.started": "2025-05-03T03:33:01.832000Z"
    },
    "id": "pv9v1E1DPF-F",
    "outputId": "bbc37ca2-a965-4357-e6e6-6b8b870f95a7",
    "trusted": true
   },
   "outputs": [],
   "source": [
    "trainer = Trainer(\n",
    "    model=model,\n",
    "    args=training_args,\n",
    "    train_dataset=train_dataset,\n",
    "    eval_dataset=test_dataset,\n",
    "    compute_metrics=compute_metrics,\n",
    "    callbacks=[\n",
    "        EarlyStoppingCallback(\n",
    "            early_stopping_patience=1,  # Stop if val_loss increases\n",
    "            early_stopping_threshold=0.01\n",
    "        )\n",
    "    ]\n",
    ")"
   ]
  },
  {
   "cell_type": "code",
   "execution_count": 64,
   "metadata": {
    "colab": {
     "base_uri": "https://localhost:8080/",
     "height": 178
    },
    "execution": {
     "iopub.execute_input": "2025-05-03T03:11:05.019750Z",
     "iopub.status.busy": "2025-05-03T03:11:05.019217Z",
     "iopub.status.idle": "2025-05-03T03:26:22.101183Z",
     "shell.execute_reply": "2025-05-03T03:26:22.100540Z",
     "shell.execute_reply.started": "2025-05-03T03:11:05.019725Z"
    },
    "id": "AyYvM0ulPHj0",
    "outputId": "6ad1170b-5925-4dc2-8349-277e42fcd777",
    "trusted": true
   },
   "outputs": [
    {
     "name": "stderr",
     "output_type": "stream",
     "text": [
      "/usr/local/lib/python3.11/dist-packages/torch/nn/parallel/_functions.py:71: UserWarning: Was asked to gather along dimension 0, but all input tensors were scalars; will instead unsqueeze and return a vector.\n",
      "  warnings.warn(\n"
     ]
    },
    {
     "data": {
      "text/html": [
       "\n",
       "    <div>\n",
       "      \n",
       "      <progress value='510' max='850' style='width:300px; height:20px; vertical-align: middle;'></progress>\n",
       "      [510/850 15:14 < 10:12, 0.56 it/s, Epoch 3/5]\n",
       "    </div>\n",
       "    <table border=\"1\" class=\"dataframe\">\n",
       "  <thead>\n",
       " <tr style=\"text-align: left;\">\n",
       "      <th>Epoch</th>\n",
       "      <th>Training Loss</th>\n",
       "      <th>Validation Loss</th>\n",
       "    </tr>\n",
       "  </thead>\n",
       "  <tbody>\n",
       "    <tr>\n",
       "      <td>1</td>\n",
       "      <td>0.125000</td>\n",
       "      <td>0.096322</td>\n",
       "    </tr>\n",
       "    <tr>\n",
       "      <td>2</td>\n",
       "      <td>0.026900</td>\n",
       "      <td>0.080914</td>\n",
       "    </tr>\n",
       "    <tr>\n",
       "      <td>3</td>\n",
       "      <td>0.015100</td>\n",
       "      <td>0.085421</td>\n",
       "    </tr>\n",
       "  </tbody>\n",
       "</table><p>"
      ],
      "text/plain": [
       "<IPython.core.display.HTML object>"
      ]
     },
     "metadata": {},
     "output_type": "display_data"
    },
    {
     "name": "stderr",
     "output_type": "stream",
     "text": [
      "/usr/local/lib/python3.11/dist-packages/torch/nn/parallel/_functions.py:71: UserWarning: Was asked to gather along dimension 0, but all input tensors were scalars; will instead unsqueeze and return a vector.\n",
      "  warnings.warn(\n",
      "/usr/local/lib/python3.11/dist-packages/torch/nn/parallel/_functions.py:71: UserWarning: Was asked to gather along dimension 0, but all input tensors were scalars; will instead unsqueeze and return a vector.\n",
      "  warnings.warn(\n"
     ]
    },
    {
     "data": {
      "text/plain": [
       "TrainOutput(global_step=510, training_loss=0.05072111604260463, metrics={'train_runtime': 916.3212, 'train_samples_per_second': 29.515, 'train_steps_per_second': 0.928, 'total_flos': 4269503095326720.0, 'train_loss': 0.05072111604260463, 'epoch': 3.0})"
      ]
     },
     "execution_count": 64,
     "metadata": {},
     "output_type": "execute_result"
    }
   ],
   "source": [
    "# Train model\n",
    "trainer.train(resume_from_checkpoint=False)"
   ]
  },
  {
   "cell_type": "code",
   "execution_count": 67,
   "metadata": {
    "execution": {
     "iopub.execute_input": "2025-05-03T03:33:06.470919Z",
     "iopub.status.busy": "2025-05-03T03:33:06.470348Z",
     "iopub.status.idle": "2025-05-03T03:33:18.057628Z",
     "shell.execute_reply": "2025-05-03T03:33:18.056761Z",
     "shell.execute_reply.started": "2025-05-03T03:33:06.470880Z"
    },
    "id": "uo_yuWCoTSeB",
    "trusted": true
   },
   "outputs": [
    {
     "data": {
      "text/html": [
       "\n",
       "    <div>\n",
       "      \n",
       "      <progress value='38' max='38' style='width:300px; height:20px; vertical-align: middle;'></progress>\n",
       "      [38/38 00:11]\n",
       "    </div>\n",
       "    "
      ],
      "text/plain": [
       "<IPython.core.display.HTML object>"
      ]
     },
     "metadata": {},
     "output_type": "display_data"
    },
    {
     "data": {
      "text/plain": [
       "{'eval_loss': 0.08091381937265396,\n",
       " 'eval_accuracy': 0.9950083194675541,\n",
       " 'eval_precision': 0.995049504950495,\n",
       " 'eval_recall': 0.9950166112956811,\n",
       " 'eval_f1': 0.9950082641882407,\n",
       " 'eval_runtime': 11.5773,\n",
       " 'eval_samples_per_second': 51.912,\n",
       " 'eval_steps_per_second': 3.282}"
      ]
     },
     "execution_count": 67,
     "metadata": {},
     "output_type": "execute_result"
    }
   ],
   "source": [
    "eval_results = trainer.evaluate(test_dataset)\n",
    "eval_results  # Check *true* metrics"
   ]
  },
  {
   "cell_type": "code",
   "execution_count": 69,
   "metadata": {
    "execution": {
     "iopub.execute_input": "2025-05-03T03:37:17.282734Z",
     "iopub.status.busy": "2025-05-03T03:37:17.282447Z",
     "iopub.status.idle": "2025-05-03T03:37:17.830013Z",
     "shell.execute_reply": "2025-05-03T03:37:17.829171Z",
     "shell.execute_reply.started": "2025-05-03T03:37:17.282712Z"
    },
    "id": "f2HzLaa_O5rp",
    "trusted": true
   },
   "outputs": [
    {
     "data": {
      "text/plain": [
       "('./indo-sentiment-model/finetuned/tokenizer_config.json',\n",
       " './indo-sentiment-model/finetuned/special_tokens_map.json',\n",
       " './indo-sentiment-model/finetuned/vocab.txt',\n",
       " './indo-sentiment-model/finetuned/added_tokens.json',\n",
       " './indo-sentiment-model/finetuned/tokenizer.json')"
      ]
     },
     "execution_count": 69,
     "metadata": {},
     "output_type": "execute_result"
    }
   ],
   "source": [
    "# Save model\n",
    "trainer.save_model(\"./indo-sentiment-model/finetuned\")\n",
    "tokenizer.save_pretrained(\"./indo-sentiment-model/finetuned\")"
   ]
  },
  {
   "cell_type": "markdown",
   "metadata": {},
   "source": [
    "# Inference"
   ]
  },
  {
   "cell_type": "code",
   "execution_count": 70,
   "metadata": {
    "execution": {
     "iopub.execute_input": "2025-05-03T03:46:35.394754Z",
     "iopub.status.busy": "2025-05-03T03:46:35.394138Z",
     "iopub.status.idle": "2025-05-03T03:46:35.399729Z",
     "shell.execute_reply": "2025-05-03T03:46:35.398851Z",
     "shell.execute_reply.started": "2025-05-03T03:46:35.394730Z"
    },
    "trusted": true
   },
   "outputs": [],
   "source": [
    "# 3. Define inference function\n",
    "def predict(text):\n",
    "    # Tokenize input\n",
    "    inputs = tokenizer(text, \n",
    "                     padding=True, \n",
    "                     truncation=True, \n",
    "                     max_length=512, \n",
    "                     return_tensors=\"pt\").to(device)\n",
    "    \n",
    "    # Get predictions\n",
    "    with torch.no_grad():\n",
    "        outputs = model(**inputs)\n",
    "    \n",
    "    # Convert to probabilities\n",
    "    probs = torch.nn.functional.softmax(outputs.logits, dim=-1)\n",
    "    \n",
    "    # Get predicted class and confidence\n",
    "    confidence, predicted_class = torch.max(probs, dim=1)\n",
    "    \n",
    "    return {\n",
    "        \"class\": predicted_class.item(),\n",
    "        \"confidence\": confidence.item(),\n",
    "        \"probabilities\": probs.cpu().numpy()[0]\n",
    "    }"
   ]
  },
  {
   "cell_type": "code",
   "execution_count": 73,
   "metadata": {
    "execution": {
     "iopub.execute_input": "2025-05-03T03:48:06.994128Z",
     "iopub.status.busy": "2025-05-03T03:48:06.993587Z",
     "iopub.status.idle": "2025-05-03T03:48:07.009689Z",
     "shell.execute_reply": "2025-05-03T03:48:07.008876Z",
     "shell.execute_reply.started": "2025-05-03T03:48:06.994107Z"
    },
    "trusted": true
   },
   "outputs": [
    {
     "name": "stdout",
     "output_type": "stream",
     "text": [
      "Predicted class: 0\n",
      "Confidence: 1.0000\n"
     ]
    }
   ],
   "source": [
    "# 4. Example usage\n",
    "sample_text = \"kurang bgt mas gibran\"\n",
    "prediction = predict(sample_text)\n",
    "\n",
    "print(f\"Predicted class: {prediction['class']}\")\n",
    "print(f\"Confidence: {prediction['confidence']:.4f}\")"
   ]
  }
 ],
 "metadata": {
  "colab": {
   "provenance": []
  },
  "kaggle": {
   "accelerator": "nvidiaTeslaT4",
   "dataSources": [
    {
     "datasetId": 7314633,
     "sourceId": 11655536,
     "sourceType": "datasetVersion"
    }
   ],
   "dockerImageVersionId": 31011,
   "isGpuEnabled": true,
   "isInternetEnabled": true,
   "language": "python",
   "sourceType": "notebook"
  },
  "kernelspec": {
   "display_name": ".venv",
   "language": "python",
   "name": "python3"
  },
  "language_info": {
   "codemirror_mode": {
    "name": "ipython",
    "version": 3
   },
   "file_extension": ".py",
   "mimetype": "text/x-python",
   "name": "python",
   "nbconvert_exporter": "python",
   "pygments_lexer": "ipython3",
   "version": "3.13.2"
  },
  "widgets": {
   "application/vnd.jupyter.widget-state+json": {
    "0839ee79e17041e7ad04a3ed842e6654": {
     "model_module": "@jupyter-widgets/controls",
     "model_module_version": "1.5.0",
     "model_name": "ProgressStyleModel",
     "state": {
      "_model_module": "@jupyter-widgets/controls",
      "_model_module_version": "1.5.0",
      "_model_name": "ProgressStyleModel",
      "_view_count": null,
      "_view_module": "@jupyter-widgets/base",
      "_view_module_version": "1.2.0",
      "_view_name": "StyleView",
      "bar_color": null,
      "description_width": ""
     }
    },
    "167e166c04464321916a6f561ca000df": {
     "model_module": "@jupyter-widgets/controls",
     "model_module_version": "1.5.0",
     "model_name": "DescriptionStyleModel",
     "state": {
      "_model_module": "@jupyter-widgets/controls",
      "_model_module_version": "1.5.0",
      "_model_name": "DescriptionStyleModel",
      "_view_count": null,
      "_view_module": "@jupyter-widgets/base",
      "_view_module_version": "1.2.0",
      "_view_name": "StyleView",
      "description_width": ""
     }
    },
    "1d1dd2e8b20a4d6196ad92684b2ec5f0": {
     "model_module": "@jupyter-widgets/controls",
     "model_module_version": "1.5.0",
     "model_name": "FloatProgressModel",
     "state": {
      "_dom_classes": [],
      "_model_module": "@jupyter-widgets/controls",
      "_model_module_version": "1.5.0",
      "_model_name": "FloatProgressModel",
      "_view_count": null,
      "_view_module": "@jupyter-widgets/controls",
      "_view_module_version": "1.5.0",
      "_view_name": "ProgressView",
      "bar_style": "success",
      "description": "",
      "description_tooltip": null,
      "layout": "IPY_MODEL_b737b88531c5403fbd603705bbb936ec",
      "max": 5409,
      "min": 0,
      "orientation": "horizontal",
      "style": "IPY_MODEL_ed8bed0a80974b85aa9b481937b78467",
      "value": 5409
     }
    },
    "35076c572d594d6d914ee6c722d07c67": {
     "model_module": "@jupyter-widgets/controls",
     "model_module_version": "1.5.0",
     "model_name": "DescriptionStyleModel",
     "state": {
      "_model_module": "@jupyter-widgets/controls",
      "_model_module_version": "1.5.0",
      "_model_name": "DescriptionStyleModel",
      "_view_count": null,
      "_view_module": "@jupyter-widgets/base",
      "_view_module_version": "1.2.0",
      "_view_name": "StyleView",
      "description_width": ""
     }
    },
    "3f3769ebdb8b4ac3ac403caa0941b6e0": {
     "model_module": "@jupyter-widgets/controls",
     "model_module_version": "1.5.0",
     "model_name": "HBoxModel",
     "state": {
      "_dom_classes": [],
      "_model_module": "@jupyter-widgets/controls",
      "_model_module_version": "1.5.0",
      "_model_name": "HBoxModel",
      "_view_count": null,
      "_view_module": "@jupyter-widgets/controls",
      "_view_module_version": "1.5.0",
      "_view_name": "HBoxView",
      "box_style": "",
      "children": [
       "IPY_MODEL_76b2f7a94ccc42e8be71728c2a159a68",
       "IPY_MODEL_1d1dd2e8b20a4d6196ad92684b2ec5f0",
       "IPY_MODEL_f3017b5a1494440dbad03104aa51cfe3"
      ],
      "layout": "IPY_MODEL_8a2a2124dfd04bec9621bd8bd0db1492"
     }
    },
    "58648f2cddc047f181b9275a429f08b4": {
     "model_module": "@jupyter-widgets/base",
     "model_module_version": "1.2.0",
     "model_name": "LayoutModel",
     "state": {
      "_model_module": "@jupyter-widgets/base",
      "_model_module_version": "1.2.0",
      "_model_name": "LayoutModel",
      "_view_count": null,
      "_view_module": "@jupyter-widgets/base",
      "_view_module_version": "1.2.0",
      "_view_name": "LayoutView",
      "align_content": null,
      "align_items": null,
      "align_self": null,
      "border": null,
      "bottom": null,
      "display": null,
      "flex": null,
      "flex_flow": null,
      "grid_area": null,
      "grid_auto_columns": null,
      "grid_auto_flow": null,
      "grid_auto_rows": null,
      "grid_column": null,
      "grid_gap": null,
      "grid_row": null,
      "grid_template_areas": null,
      "grid_template_columns": null,
      "grid_template_rows": null,
      "height": null,
      "justify_content": null,
      "justify_items": null,
      "left": null,
      "margin": null,
      "max_height": null,
      "max_width": null,
      "min_height": null,
      "min_width": null,
      "object_fit": null,
      "object_position": null,
      "order": null,
      "overflow": null,
      "overflow_x": null,
      "overflow_y": null,
      "padding": null,
      "right": null,
      "top": null,
      "visibility": null,
      "width": null
     }
    },
    "5db9d31a88de4e4aa50e7160527c6b35": {
     "model_module": "@jupyter-widgets/base",
     "model_module_version": "1.2.0",
     "model_name": "LayoutModel",
     "state": {
      "_model_module": "@jupyter-widgets/base",
      "_model_module_version": "1.2.0",
      "_model_name": "LayoutModel",
      "_view_count": null,
      "_view_module": "@jupyter-widgets/base",
      "_view_module_version": "1.2.0",
      "_view_name": "LayoutView",
      "align_content": null,
      "align_items": null,
      "align_self": null,
      "border": null,
      "bottom": null,
      "display": null,
      "flex": null,
      "flex_flow": null,
      "grid_area": null,
      "grid_auto_columns": null,
      "grid_auto_flow": null,
      "grid_auto_rows": null,
      "grid_column": null,
      "grid_gap": null,
      "grid_row": null,
      "grid_template_areas": null,
      "grid_template_columns": null,
      "grid_template_rows": null,
      "height": null,
      "justify_content": null,
      "justify_items": null,
      "left": null,
      "margin": null,
      "max_height": null,
      "max_width": null,
      "min_height": null,
      "min_width": null,
      "object_fit": null,
      "object_position": null,
      "order": null,
      "overflow": null,
      "overflow_x": null,
      "overflow_y": null,
      "padding": null,
      "right": null,
      "top": null,
      "visibility": null,
      "width": null
     }
    },
    "6d816c9222284897bd06fa5c2b09ded1": {
     "model_module": "@jupyter-widgets/base",
     "model_module_version": "1.2.0",
     "model_name": "LayoutModel",
     "state": {
      "_model_module": "@jupyter-widgets/base",
      "_model_module_version": "1.2.0",
      "_model_name": "LayoutModel",
      "_view_count": null,
      "_view_module": "@jupyter-widgets/base",
      "_view_module_version": "1.2.0",
      "_view_name": "LayoutView",
      "align_content": null,
      "align_items": null,
      "align_self": null,
      "border": null,
      "bottom": null,
      "display": null,
      "flex": null,
      "flex_flow": null,
      "grid_area": null,
      "grid_auto_columns": null,
      "grid_auto_flow": null,
      "grid_auto_rows": null,
      "grid_column": null,
      "grid_gap": null,
      "grid_row": null,
      "grid_template_areas": null,
      "grid_template_columns": null,
      "grid_template_rows": null,
      "height": null,
      "justify_content": null,
      "justify_items": null,
      "left": null,
      "margin": null,
      "max_height": null,
      "max_width": null,
      "min_height": null,
      "min_width": null,
      "object_fit": null,
      "object_position": null,
      "order": null,
      "overflow": null,
      "overflow_x": null,
      "overflow_y": null,
      "padding": null,
      "right": null,
      "top": null,
      "visibility": null,
      "width": null
     }
    },
    "76b2f7a94ccc42e8be71728c2a159a68": {
     "model_module": "@jupyter-widgets/controls",
     "model_module_version": "1.5.0",
     "model_name": "HTMLModel",
     "state": {
      "_dom_classes": [],
      "_model_module": "@jupyter-widgets/controls",
      "_model_module_version": "1.5.0",
      "_model_name": "HTMLModel",
      "_view_count": null,
      "_view_module": "@jupyter-widgets/controls",
      "_view_module_version": "1.5.0",
      "_view_name": "HTMLView",
      "description": "",
      "description_tooltip": null,
      "layout": "IPY_MODEL_58648f2cddc047f181b9275a429f08b4",
      "placeholder": "​",
      "style": "IPY_MODEL_a2e28702af5c4b36be493dd787a41685",
      "value": "Map: 100%"
     }
    },
    "8a2a2124dfd04bec9621bd8bd0db1492": {
     "model_module": "@jupyter-widgets/base",
     "model_module_version": "1.2.0",
     "model_name": "LayoutModel",
     "state": {
      "_model_module": "@jupyter-widgets/base",
      "_model_module_version": "1.2.0",
      "_model_name": "LayoutModel",
      "_view_count": null,
      "_view_module": "@jupyter-widgets/base",
      "_view_module_version": "1.2.0",
      "_view_name": "LayoutView",
      "align_content": null,
      "align_items": null,
      "align_self": null,
      "border": null,
      "bottom": null,
      "display": null,
      "flex": null,
      "flex_flow": null,
      "grid_area": null,
      "grid_auto_columns": null,
      "grid_auto_flow": null,
      "grid_auto_rows": null,
      "grid_column": null,
      "grid_gap": null,
      "grid_row": null,
      "grid_template_areas": null,
      "grid_template_columns": null,
      "grid_template_rows": null,
      "height": null,
      "justify_content": null,
      "justify_items": null,
      "left": null,
      "margin": null,
      "max_height": null,
      "max_width": null,
      "min_height": null,
      "min_width": null,
      "object_fit": null,
      "object_position": null,
      "order": null,
      "overflow": null,
      "overflow_x": null,
      "overflow_y": null,
      "padding": null,
      "right": null,
      "top": null,
      "visibility": null,
      "width": null
     }
    },
    "98130d8019e44da181774dd44406a8ec": {
     "model_module": "@jupyter-widgets/controls",
     "model_module_version": "1.5.0",
     "model_name": "HBoxModel",
     "state": {
      "_dom_classes": [],
      "_model_module": "@jupyter-widgets/controls",
      "_model_module_version": "1.5.0",
      "_model_name": "HBoxModel",
      "_view_count": null,
      "_view_module": "@jupyter-widgets/controls",
      "_view_module_version": "1.5.0",
      "_view_name": "HBoxView",
      "box_style": "",
      "children": [
       "IPY_MODEL_adc647f4382444329e40315e21d9834d",
       "IPY_MODEL_9a8fb3b004ce4d299732e4071f64b940",
       "IPY_MODEL_fd36b84402e04553a4444f2e97ecb77e"
      ],
      "layout": "IPY_MODEL_5db9d31a88de4e4aa50e7160527c6b35"
     }
    },
    "9a8fb3b004ce4d299732e4071f64b940": {
     "model_module": "@jupyter-widgets/controls",
     "model_module_version": "1.5.0",
     "model_name": "FloatProgressModel",
     "state": {
      "_dom_classes": [],
      "_model_module": "@jupyter-widgets/controls",
      "_model_module_version": "1.5.0",
      "_model_name": "FloatProgressModel",
      "_view_count": null,
      "_view_module": "@jupyter-widgets/controls",
      "_view_module_version": "1.5.0",
      "_view_name": "ProgressView",
      "bar_style": "success",
      "description": "",
      "description_tooltip": null,
      "layout": "IPY_MODEL_9afcc91051d043fcbc0e0691b529b581",
      "max": 601,
      "min": 0,
      "orientation": "horizontal",
      "style": "IPY_MODEL_0839ee79e17041e7ad04a3ed842e6654",
      "value": 601
     }
    },
    "9afcc91051d043fcbc0e0691b529b581": {
     "model_module": "@jupyter-widgets/base",
     "model_module_version": "1.2.0",
     "model_name": "LayoutModel",
     "state": {
      "_model_module": "@jupyter-widgets/base",
      "_model_module_version": "1.2.0",
      "_model_name": "LayoutModel",
      "_view_count": null,
      "_view_module": "@jupyter-widgets/base",
      "_view_module_version": "1.2.0",
      "_view_name": "LayoutView",
      "align_content": null,
      "align_items": null,
      "align_self": null,
      "border": null,
      "bottom": null,
      "display": null,
      "flex": null,
      "flex_flow": null,
      "grid_area": null,
      "grid_auto_columns": null,
      "grid_auto_flow": null,
      "grid_auto_rows": null,
      "grid_column": null,
      "grid_gap": null,
      "grid_row": null,
      "grid_template_areas": null,
      "grid_template_columns": null,
      "grid_template_rows": null,
      "height": null,
      "justify_content": null,
      "justify_items": null,
      "left": null,
      "margin": null,
      "max_height": null,
      "max_width": null,
      "min_height": null,
      "min_width": null,
      "object_fit": null,
      "object_position": null,
      "order": null,
      "overflow": null,
      "overflow_x": null,
      "overflow_y": null,
      "padding": null,
      "right": null,
      "top": null,
      "visibility": null,
      "width": null
     }
    },
    "a2e28702af5c4b36be493dd787a41685": {
     "model_module": "@jupyter-widgets/controls",
     "model_module_version": "1.5.0",
     "model_name": "DescriptionStyleModel",
     "state": {
      "_model_module": "@jupyter-widgets/controls",
      "_model_module_version": "1.5.0",
      "_model_name": "DescriptionStyleModel",
      "_view_count": null,
      "_view_module": "@jupyter-widgets/base",
      "_view_module_version": "1.2.0",
      "_view_name": "StyleView",
      "description_width": ""
     }
    },
    "adc647f4382444329e40315e21d9834d": {
     "model_module": "@jupyter-widgets/controls",
     "model_module_version": "1.5.0",
     "model_name": "HTMLModel",
     "state": {
      "_dom_classes": [],
      "_model_module": "@jupyter-widgets/controls",
      "_model_module_version": "1.5.0",
      "_model_name": "HTMLModel",
      "_view_count": null,
      "_view_module": "@jupyter-widgets/controls",
      "_view_module_version": "1.5.0",
      "_view_name": "HTMLView",
      "description": "",
      "description_tooltip": null,
      "layout": "IPY_MODEL_af150faac2244822815b782bf36fea9e",
      "placeholder": "​",
      "style": "IPY_MODEL_167e166c04464321916a6f561ca000df",
      "value": "Map: 100%"
     }
    },
    "af150faac2244822815b782bf36fea9e": {
     "model_module": "@jupyter-widgets/base",
     "model_module_version": "1.2.0",
     "model_name": "LayoutModel",
     "state": {
      "_model_module": "@jupyter-widgets/base",
      "_model_module_version": "1.2.0",
      "_model_name": "LayoutModel",
      "_view_count": null,
      "_view_module": "@jupyter-widgets/base",
      "_view_module_version": "1.2.0",
      "_view_name": "LayoutView",
      "align_content": null,
      "align_items": null,
      "align_self": null,
      "border": null,
      "bottom": null,
      "display": null,
      "flex": null,
      "flex_flow": null,
      "grid_area": null,
      "grid_auto_columns": null,
      "grid_auto_flow": null,
      "grid_auto_rows": null,
      "grid_column": null,
      "grid_gap": null,
      "grid_row": null,
      "grid_template_areas": null,
      "grid_template_columns": null,
      "grid_template_rows": null,
      "height": null,
      "justify_content": null,
      "justify_items": null,
      "left": null,
      "margin": null,
      "max_height": null,
      "max_width": null,
      "min_height": null,
      "min_width": null,
      "object_fit": null,
      "object_position": null,
      "order": null,
      "overflow": null,
      "overflow_x": null,
      "overflow_y": null,
      "padding": null,
      "right": null,
      "top": null,
      "visibility": null,
      "width": null
     }
    },
    "b737b88531c5403fbd603705bbb936ec": {
     "model_module": "@jupyter-widgets/base",
     "model_module_version": "1.2.0",
     "model_name": "LayoutModel",
     "state": {
      "_model_module": "@jupyter-widgets/base",
      "_model_module_version": "1.2.0",
      "_model_name": "LayoutModel",
      "_view_count": null,
      "_view_module": "@jupyter-widgets/base",
      "_view_module_version": "1.2.0",
      "_view_name": "LayoutView",
      "align_content": null,
      "align_items": null,
      "align_self": null,
      "border": null,
      "bottom": null,
      "display": null,
      "flex": null,
      "flex_flow": null,
      "grid_area": null,
      "grid_auto_columns": null,
      "grid_auto_flow": null,
      "grid_auto_rows": null,
      "grid_column": null,
      "grid_gap": null,
      "grid_row": null,
      "grid_template_areas": null,
      "grid_template_columns": null,
      "grid_template_rows": null,
      "height": null,
      "justify_content": null,
      "justify_items": null,
      "left": null,
      "margin": null,
      "max_height": null,
      "max_width": null,
      "min_height": null,
      "min_width": null,
      "object_fit": null,
      "object_position": null,
      "order": null,
      "overflow": null,
      "overflow_x": null,
      "overflow_y": null,
      "padding": null,
      "right": null,
      "top": null,
      "visibility": null,
      "width": null
     }
    },
    "b9a4615890fe4e339ddad924fd3b92df": {
     "model_module": "@jupyter-widgets/base",
     "model_module_version": "1.2.0",
     "model_name": "LayoutModel",
     "state": {
      "_model_module": "@jupyter-widgets/base",
      "_model_module_version": "1.2.0",
      "_model_name": "LayoutModel",
      "_view_count": null,
      "_view_module": "@jupyter-widgets/base",
      "_view_module_version": "1.2.0",
      "_view_name": "LayoutView",
      "align_content": null,
      "align_items": null,
      "align_self": null,
      "border": null,
      "bottom": null,
      "display": null,
      "flex": null,
      "flex_flow": null,
      "grid_area": null,
      "grid_auto_columns": null,
      "grid_auto_flow": null,
      "grid_auto_rows": null,
      "grid_column": null,
      "grid_gap": null,
      "grid_row": null,
      "grid_template_areas": null,
      "grid_template_columns": null,
      "grid_template_rows": null,
      "height": null,
      "justify_content": null,
      "justify_items": null,
      "left": null,
      "margin": null,
      "max_height": null,
      "max_width": null,
      "min_height": null,
      "min_width": null,
      "object_fit": null,
      "object_position": null,
      "order": null,
      "overflow": null,
      "overflow_x": null,
      "overflow_y": null,
      "padding": null,
      "right": null,
      "top": null,
      "visibility": null,
      "width": null
     }
    },
    "bd6024b5a9824f18b3b02e27b9267fb9": {
     "model_module": "@jupyter-widgets/controls",
     "model_module_version": "1.5.0",
     "model_name": "DescriptionStyleModel",
     "state": {
      "_model_module": "@jupyter-widgets/controls",
      "_model_module_version": "1.5.0",
      "_model_name": "DescriptionStyleModel",
      "_view_count": null,
      "_view_module": "@jupyter-widgets/base",
      "_view_module_version": "1.2.0",
      "_view_name": "StyleView",
      "description_width": ""
     }
    },
    "ed8bed0a80974b85aa9b481937b78467": {
     "model_module": "@jupyter-widgets/controls",
     "model_module_version": "1.5.0",
     "model_name": "ProgressStyleModel",
     "state": {
      "_model_module": "@jupyter-widgets/controls",
      "_model_module_version": "1.5.0",
      "_model_name": "ProgressStyleModel",
      "_view_count": null,
      "_view_module": "@jupyter-widgets/base",
      "_view_module_version": "1.2.0",
      "_view_name": "StyleView",
      "bar_color": null,
      "description_width": ""
     }
    },
    "f3017b5a1494440dbad03104aa51cfe3": {
     "model_module": "@jupyter-widgets/controls",
     "model_module_version": "1.5.0",
     "model_name": "HTMLModel",
     "state": {
      "_dom_classes": [],
      "_model_module": "@jupyter-widgets/controls",
      "_model_module_version": "1.5.0",
      "_model_name": "HTMLModel",
      "_view_count": null,
      "_view_module": "@jupyter-widgets/controls",
      "_view_module_version": "1.5.0",
      "_view_name": "HTMLView",
      "description": "",
      "description_tooltip": null,
      "layout": "IPY_MODEL_6d816c9222284897bd06fa5c2b09ded1",
      "placeholder": "​",
      "style": "IPY_MODEL_35076c572d594d6d914ee6c722d07c67",
      "value": " 5409/5409 [00:06&lt;00:00, 806.81 examples/s]"
     }
    },
    "fd36b84402e04553a4444f2e97ecb77e": {
     "model_module": "@jupyter-widgets/controls",
     "model_module_version": "1.5.0",
     "model_name": "HTMLModel",
     "state": {
      "_dom_classes": [],
      "_model_module": "@jupyter-widgets/controls",
      "_model_module_version": "1.5.0",
      "_model_name": "HTMLModel",
      "_view_count": null,
      "_view_module": "@jupyter-widgets/controls",
      "_view_module_version": "1.5.0",
      "_view_name": "HTMLView",
      "description": "",
      "description_tooltip": null,
      "layout": "IPY_MODEL_b9a4615890fe4e339ddad924fd3b92df",
      "placeholder": "​",
      "style": "IPY_MODEL_bd6024b5a9824f18b3b02e27b9267fb9",
      "value": " 601/601 [00:00&lt;00:00, 1034.06 examples/s]"
     }
    }
   }
  }
 },
 "nbformat": 4,
 "nbformat_minor": 4
}
